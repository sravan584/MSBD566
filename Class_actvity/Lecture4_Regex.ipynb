{
 "cells": [
  {
   "cell_type": "markdown",
   "id": "05887720-c890-48ff-85b8-4938d0575149",
   "metadata": {},
   "source": [
    "# Regex with Python\n",
    "\n",
    "Documentation Resource: https://www.w3schools.com/python/python_regex.asp"
   ]
  },
  {
   "cell_type": "code",
   "execution_count": null,
   "id": "e119996c-ad22-4c11-aa3b-ef71929f42dd",
   "metadata": {},
   "outputs": [],
   "source": [
    "import re"
   ]
  },
  {
   "cell_type": "code",
   "execution_count": null,
   "id": "1eecbefe-d240-434d-9258-07a8334d63c3",
   "metadata": {},
   "outputs": [],
   "source": [
    "text = \"If you know Python,    then\\nyou're power level is over 9000\"\n",
    "print(text)"
   ]
  },
  {
   "cell_type": "code",
   "execution_count": null,
   "id": "2a16d186-e720-4f96-90f1-45c0c61bc4dd",
   "metadata": {},
   "outputs": [],
   "source": [
    "# find all words (no contractions)\n",
    "re.findall(r\"\\w+\", text)"
   ]
  },
  {
   "cell_type": "code",
   "execution_count": null,
   "id": "71c41d0b-c133-4efd-8e5c-c9ccd5c65f08",
   "metadata": {},
   "outputs": [],
   "source": [
    "# find all words (with contractions)\n",
    "re.findall(r\"[\\w']+\", text)"
   ]
  },
  {
   "cell_type": "code",
   "execution_count": null,
   "id": "d17618c5-d399-47dd-ada6-c978df2b385e",
   "metadata": {},
   "outputs": [],
   "source": [
    "# find all numbers\n",
    "re.findall(r\"\\d+\", text)"
   ]
  },
  {
   "cell_type": "code",
   "execution_count": null,
   "id": "c15179d0-e31d-4647-b0f5-b9c9c9b2eb34",
   "metadata": {},
   "outputs": [],
   "source": [
    "# find phone numbers\n",
    "text = \"my number is (615) 555-1234. her number is (012) 345-6789\"\n",
    "\n",
    "phones = re.findall(r\"\\(\\d{3}\\) \\d{3}-\\d{4}\", text)\n",
    "phones"
   ]
  },
  {
   "cell_type": "code",
   "execution_count": null,
   "id": "f4bde03f-212e-4dc7-a2c6-72352dd8b214",
   "metadata": {},
   "outputs": [],
   "source": [
    "# find prices\n",
    "text = \"I made $12.21 she made $4,001.99 he made $1,033,080.01\"\n",
    "\n",
    "matches = re.findall(\"\\$([\\d,]+\\.\\d{2})\", text)\n",
    "matches = [ re.sub(',', '', m) for m in matches ]\n",
    "matches = [ float(m) for m in matches ]\n",
    "matches"
   ]
  },
  {
   "cell_type": "code",
   "execution_count": null,
   "id": "f599308b",
   "metadata": {},
   "outputs": [],
   "source": [
    "# split lines\n",
    "text = \"If you know Python,    then\\nyou're power level is over 9000\"\n",
    "lines = re.split(r'\\r?\\n', text)\n",
    "lines"
   ]
  },
  {
   "cell_type": "code",
   "execution_count": null,
   "id": "d7bd41f4",
   "metadata": {},
   "outputs": [],
   "source": [
    "# Original text\n",
    "text = \"If you know Python,    then\\nyou're power level is over 9000\"\n",
    "print(f\"Original text: \\n{text}\")\n",
    "print(f\"\\n\")\n",
    "\n",
    "# Replace all w with W\n",
    "text = re.sub(r'w', 'W', text)\n",
    "print(f\"Modified text: \\n{text}\")\n",
    "print(f\"\\n\")\n",
    "\n",
    "# Replace all whitespace with X\n",
    "text = re.sub(r'\\s+', 'X', text)\n",
    "print(f\"Modified text: \\n{text}\")\n",
    "print(f\"\\n\")"
   ]
  },
  {
   "cell_type": "markdown",
   "id": "eba654c1",
   "metadata": {},
   "source": [
    "## RegEx on HTML file"
   ]
  },
  {
   "cell_type": "code",
   "execution_count": null,
   "id": "4a086173",
   "metadata": {},
   "outputs": [],
   "source": [
    "import numpy as np\n",
    "import pandas as pd\n",
    "import matplotlib.pyplot as plt\n",
    "import seaborn as sns\n",
    "import re"
   ]
  },
  {
   "cell_type": "code",
   "execution_count": null,
   "id": "4f2dc638",
   "metadata": {},
   "outputs": [],
   "source": [
    "file_path = \"test.html\"\n",
    "\n",
    "with open(file_path,'r') as f:\\\n",
    "    text = f.read()\n",
    "# end\n",
    "print(text)"
   ]
  },
  {
   "cell_type": "markdown",
   "id": "84f9a3d9",
   "metadata": {},
   "source": [
    "### WITHOUT REGEX"
   ]
  },
  {
   "cell_type": "code",
   "execution_count": null,
   "id": "521ea9c0",
   "metadata": {},
   "outputs": [],
   "source": [
    "# find all links\n",
    "lines = text.split('\\n')\n",
    "lines"
   ]
  },
  {
   "cell_type": "code",
   "execution_count": null,
   "id": "c4cf3b6c",
   "metadata": {},
   "outputs": [],
   "source": [
    "hrefLines = []\n",
    "for line in lines:\n",
    "    if 'href' in line:\n",
    "        hrefLines.append(line.strip())\n",
    "\n",
    "hrefLines"
   ]
  },
  {
   "cell_type": "code",
   "execution_count": null,
   "id": "94b88b9c",
   "metadata": {},
   "outputs": [],
   "source": [
    "for line in hrefLines:\n",
    "    idx1 = line.find('\\\"')+1\n",
    "    idx2 = line.find('\\\"', idx1)\n",
    "    \n",
    "    print(line[idx1:idx2])"
   ]
  },
  {
   "cell_type": "markdown",
   "id": "5d3c055e",
   "metadata": {},
   "source": [
    "checking the time"
   ]
  },
  {
   "cell_type": "code",
   "execution_count": null,
   "id": "85c7e706",
   "metadata": {},
   "outputs": [],
   "source": [
    "%%time\n",
    "lines = text.split('\\n')\n",
    "hrefLines = []\n",
    "links = []\n",
    "for line in lines:\n",
    "    if 'href' in line:\n",
    "        hrefLines.append(line.strip())\n",
    "\n",
    "for line in hrefLines:\n",
    "    idx1 = line.find('\\\"')+1\n",
    "    idx2 = line.find('\\\"', idx1)\n",
    "    links.append(line[idx1:idx2])"
   ]
  },
  {
   "cell_type": "markdown",
   "id": "1b1aef27",
   "metadata": {},
   "source": [
    "### WITH REGEX"
   ]
  },
  {
   "cell_type": "code",
   "execution_count": null,
   "id": "44807956",
   "metadata": {},
   "outputs": [],
   "source": [
    "%%time\n",
    "re.findall(r\"href=\\\"(.*)\\\"\", text)"
   ]
  }
 ],
 "metadata": {
  "kernelspec": {
   "display_name": "Python 3",
   "language": "python",
   "name": "python3"
  },
  "language_info": {
   "codemirror_mode": {
    "name": "ipython",
    "version": 3
   },
   "file_extension": ".py",
   "mimetype": "text/x-python",
   "name": "python",
   "nbconvert_exporter": "python",
   "pygments_lexer": "ipython3",
   "version": "3.9.6"
  }
 },
 "nbformat": 4,
 "nbformat_minor": 5
}
