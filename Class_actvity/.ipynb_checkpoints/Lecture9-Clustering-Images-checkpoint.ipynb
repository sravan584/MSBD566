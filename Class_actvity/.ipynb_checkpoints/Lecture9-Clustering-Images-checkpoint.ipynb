{
 "cells": [
  {
   "cell_type": "markdown",
   "id": "ec0d1e9e",
   "metadata": {},
   "source": [
    "# MSBD 566 - Lecture 9\n",
    "## Clustering - IMAGES\n",
    "\n",
    "We will focus today on clustering similar shapes in an image"
   ]
  },
  {
   "cell_type": "code",
   "execution_count": null,
   "id": "1d6151bd",
   "metadata": {},
   "outputs": [],
   "source": [
    "# import modules\n",
    "#%pip install scikit-image # uncomment this line if scikit-image is not installed\n",
    "#%pip install opencv-python # uncomment this line if cv2 is not installed\n",
    "import numpy as np\n",
    "import pandas as pd\n",
    "import matplotlib.pyplot as plt\n",
    "from sklearn.cluster import KMeans, DBSCAN\n",
    "from sklearn.preprocessing import StandardScaler\n",
    "from skimage.data import coins\n",
    "import cv2"
   ]
  },
  {
   "cell_type": "code",
   "execution_count": null,
   "id": "30ad68f5",
   "metadata": {},
   "outputs": [],
   "source": [
    "originalcoins = coins()\n",
    "originalcoins = cv2.cvtColor(originalcoins, cv2.COLOR_BGR2RGB) # don't really need this step since the image is grayscale\n",
    "\n",
    "# view the image\n",
    "plt.figure(figsize=(3, 3))\n",
    "plt.imshow(originalcoins)\n",
    "plt.axis('off')\n",
    "plt.show()\n",
    "\n",
    "# print image shape\n",
    "print(f\"Size of image: {originalcoins.shape}\")"
   ]
  },
  {
   "cell_type": "markdown",
   "id": "0ce4af2d",
   "metadata": {},
   "source": [
    "## Pre-processing images\n",
    "\n",
    "For images, it is crucial to clean the images to remove noises and reduce artifacts"
   ]
  },
  {
   "cell_type": "code",
   "execution_count": null,
   "id": "2f80f995",
   "metadata": {},
   "outputs": [],
   "source": [
    "# denoising image using Gaussian Filter \n",
    "from skimage.filters import gaussian\n",
    "denoisedcoins = gaussian(originalcoins, sigma=0.5)\n",
    "\n",
    "# view the denoised image\n",
    "plt.figure(figsize=(3, 3))\n",
    "plt.imshow(denoisedcoins, cmap='gray')\n",
    "plt.axis('off')\n",
    "plt.show()\n",
    "\n",
    "# print image shape\n",
    "print(f\"Size of image: {denoisedcoins.shape}\")"
   ]
  },
  {
   "cell_type": "code",
   "execution_count": null,
   "id": "9e8195b3",
   "metadata": {},
   "outputs": [],
   "source": [
    "# View the histogram of the image in separate subplots\n",
    "r = denoisedcoins[:,:,0].flatten()\n",
    "g = denoisedcoins[:,:,1].flatten()\n",
    "b = denoisedcoins[:,:,2].flatten()\n",
    "plt.figure(figsize=(10, 4))\n",
    "plt.subplot(1, 3, 1)\n",
    "plt.hist(r, bins=256, color='red', alpha=0.5)\n",
    "plt.title('Red Channel Histogram')\n",
    "plt.subplot(1, 3, 2)\n",
    "plt.hist(g, bins=256, color='green', alpha=0.5)\n",
    "plt.title('Green Channel Histogram')\n",
    "plt.subplot(1, 3, 3)\n",
    "plt.hist(b, bins=256, color='blue', alpha=0.5)\n",
    "plt.title('Blue Channel Histogram')\n",
    "plt.tight_layout()\n",
    "plt.show()\n",
    "\n",
    "## Question for thought: Why are the histogram looks similar in all colors?\n"
   ]
  },
  {
   "cell_type": "markdown",
   "id": "c699600a",
   "metadata": {},
   "source": [
    "### Clustering the image\n",
    "\n"
   ]
  },
  {
   "cell_type": "code",
   "execution_count": null,
   "id": "e79bfc06",
   "metadata": {},
   "outputs": [],
   "source": [
    "# Reshape the image to a 2D array of pixels and 3 color values (RGB)\n",
    "pixels = denoisedcoins.reshape(-1, 3)\n",
    "print(f\"Reshaped image to pixels array of shape: {pixels.shape}\")"
   ]
  },
  {
   "cell_type": "code",
   "execution_count": null,
   "id": "3c59a198",
   "metadata": {},
   "outputs": [],
   "source": [
    "# Clustering using kMeans\n",
    "\n",
    "# Number of clusters\n",
    "n_clusters = 3\n",
    "\n",
    "# KMeans\n",
    "kmeans = KMeans(n_clusters=n_clusters, random_state=42)\n",
    "kmean_labels = kmeans.fit_predict(pixels)\n",
    "kmean_centers = kmeans.cluster_centers_\n",
    "\n",
    "# Reshape the clustered labels back to the original image shape\n",
    "k_segmented_image = kmean_centers[kmean_labels].reshape(denoisedcoins.shape)\n",
    "kmeanlabels_img = kmean_labels.reshape(denoisedcoins.shape[0], denoisedcoins.shape[1])\n",
    "\n",
    "# View the clustered image\n",
    "plt.figure(figsize=(6, 3))\n",
    "plt.subplot(1, 2, 1)\n",
    "plt.imshow(denoisedcoins, cmap='gray')\n",
    "plt.title('Original Image')\n",
    "plt.axis('off')\n",
    "plt.subplot(1, 2, 2)\n",
    "plt.imshow(kmeanlabels_img, cmap='jet')\n",
    "plt.title('KMeans Cluster Labels')\n",
    "plt.axis('off')\n",
    "plt.tight_layout()\n",
    "plt.show()"
   ]
  },
  {
   "cell_type": "code",
   "execution_count": null,
   "id": "ff4a1f99",
   "metadata": {},
   "outputs": [],
   "source": [
    "# Clustering the image using Mean Shift\n",
    "from sklearn.cluster import estimate_bandwidth, MeanShift\n",
    "\n",
    "# Estimate the bandwidth for Mean Shift\n",
    "bandwidth = estimate_bandwidth(pixels, quantile=0.2, n_samples=500)\n",
    "print(f\"Estimated bandwidth for Mean Shift: {bandwidth}\")\n",
    "\n",
    "# Set up Mean Shift\n",
    "meanshift = MeanShift(bandwidth=bandwidth, bin_seeding=True)\n",
    "ms_labels = meanshift.fit_predict(pixels)\n",
    "ms_centers = meanshift.cluster_centers_\n",
    "print(f\"Number of clusters found by Mean Shift: {len(np.unique(ms_labels))}\")\n",
    "\n",
    "# Reshape the clustered labels back to the original image shape\n",
    "ms_segmented_image = ms_centers[ms_labels].reshape(denoisedcoins.shape)\n",
    "mslabels_img = ms_labels.reshape(denoisedcoins.shape[0], denoisedcoins.shape[1])\n",
    "\n",
    "# View the clustered image\n",
    "plt.figure(figsize=(9, 3))\n",
    "plt.subplot(1, 3, 1)\n",
    "plt.imshow(denoisedcoins, cmap='gray')\n",
    "plt.title('Original Image')\n",
    "plt.axis('off')\n",
    "plt.subplot(1, 3, 2)\n",
    "plt.imshow(mslabels_img, cmap='jet')\n",
    "plt.title('Mean Shift Cluster Labels')\n",
    "plt.axis('off')\n",
    "plt.subplot(1, 3, 3)\n",
    "plt.imshow(kmeanlabels_img, cmap='jet')\n",
    "plt.title('KMeans Cluster Labels')\n",
    "plt.axis('off')\n",
    "plt.tight_layout()\n",
    "plt.show()"
   ]
  },
  {
   "cell_type": "markdown",
   "id": "adf8e81c",
   "metadata": {},
   "source": [
    "## Activity: Try using an image of your own and using different methods.\n",
    "\n",
    "For the beginning, choose an image that is easily to segment (even by your eyes)."
   ]
  },
  {
   "cell_type": "code",
   "execution_count": null,
   "id": "d82d0ec7",
   "metadata": {},
   "outputs": [],
   "source": []
  }
 ],
 "metadata": {
  "kernelspec": {
   "display_name": "Python 3",
   "language": "python",
   "name": "python3"
  },
  "language_info": {
   "codemirror_mode": {
    "name": "ipython",
    "version": 3
   },
   "file_extension": ".py",
   "mimetype": "text/x-python",
   "name": "python",
   "nbconvert_exporter": "python",
   "pygments_lexer": "ipython3",
   "version": "3.13.7"
  }
 },
 "nbformat": 4,
 "nbformat_minor": 5
}
