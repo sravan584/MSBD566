{
 "cells": [
  {
   "cell_type": "markdown",
   "id": "2760e949",
   "metadata": {},
   "source": [
    "# MSBD566 - Lecture 3\n",
    "## Vectorization"
   ]
  },
  {
   "cell_type": "markdown",
   "id": "bc75c32e",
   "metadata": {},
   "source": [
    "**Import relevant modules**"
   ]
  },
  {
   "cell_type": "code",
   "execution_count": 1,
   "id": "5a31815a",
   "metadata": {},
   "outputs": [],
   "source": [
    "import pandas as pd\n",
    "import numpy as np"
   ]
  },
  {
   "cell_type": "markdown",
   "id": "8182b9d6",
   "metadata": {},
   "source": [
    "**Set a random data**"
   ]
  },
  {
   "cell_type": "code",
   "execution_count": 2,
   "id": "4077db92",
   "metadata": {},
   "outputs": [],
   "source": [
    "# Create a large series array\n",
    "N = int(1e6)\n",
    "x = pd.Series(np.random.rand(N))"
   ]
  },
  {
   "cell_type": "markdown",
   "id": "15a7c83f",
   "metadata": {},
   "source": [
    "As an example here, we want to square each number in the array.\n",
    "X_squared = x^2"
   ]
  },
  {
   "cell_type": "markdown",
   "id": "661135b2",
   "metadata": {},
   "source": [
    "**Manual operation**\n",
    "\n",
    "Typical operation uses a for loop and square each number in `x` one by one\n",
    "\n",
    "Note: We will use `%%time` to record the run time. "
   ]
  },
  {
   "cell_type": "code",
   "execution_count": 3,
   "id": "d4f01cc0",
   "metadata": {},
   "outputs": [
    {
     "name": "stdout",
     "output_type": "stream",
     "text": [
      "CPU times: user 91.2 ms, sys: 9.27 ms, total: 100 ms\n",
      "Wall time: 104 ms\n"
     ]
    }
   ],
   "source": [
    "%%time\n",
    "Xsquared = pd.Series([i**2 for i in x])  # Manual operation"
   ]
  },
  {
   "cell_type": "code",
   "execution_count": 4,
   "id": "87a7e687",
   "metadata": {},
   "outputs": [
    {
     "name": "stdout",
     "output_type": "stream",
     "text": [
      "CPU times: user 2.87 s, sys: 2.66 ms, total: 2.87 s\n",
      "Wall time: 2.87 s\n"
     ]
    }
   ],
   "source": [
    "%%time\n",
    "for i in range(N):\n",
    "    Xsquared[i] = x[i]**2  # Manual operation"
   ]
  },
  {
   "cell_type": "markdown",
   "id": "786e9f1b",
   "metadata": {},
   "source": [
    "**Vectorized math operation (magic method)**\n"
   ]
  },
  {
   "cell_type": "code",
   "execution_count": 5,
   "id": "883194b7",
   "metadata": {},
   "outputs": [
    {
     "name": "stdout",
     "output_type": "stream",
     "text": [
      "CPU times: user 583 μs, sys: 868 μs, total: 1.45 ms\n",
      "Wall time: 811 μs\n"
     ]
    }
   ],
   "source": [
    "%%time\n",
    "X_squared = x**2  # Vectorized math operation (magic method)"
   ]
  },
  {
   "cell_type": "markdown",
   "id": "e2caeaf7",
   "metadata": {},
   "source": [
    "**Vectorize using apply() method**"
   ]
  },
  {
   "cell_type": "code",
   "execution_count": 6,
   "id": "82b1df65",
   "metadata": {},
   "outputs": [
    {
     "name": "stdout",
     "output_type": "stream",
     "text": [
      "CPU times: user 109 ms, sys: 8.41 ms, total: 118 ms\n",
      "Wall time: 126 ms\n"
     ]
    }
   ],
   "source": [
    "%%time\n",
    "X_squared = x.apply(lambda i: i**2)  # Vectorize using apply() method"
   ]
  },
  {
   "cell_type": "markdown",
   "id": "58b9efba",
   "metadata": {},
   "source": [
    "### Activity ###\n",
    "Try to do with different operations. "
   ]
  },
  {
   "cell_type": "code",
   "execution_count": null,
   "id": "bcc77876",
   "metadata": {},
   "outputs": [],
   "source": []
  }
 ],
 "metadata": {
  "kernelspec": {
   "display_name": "Python 3 (ipykernel)",
   "language": "python",
   "name": "python3"
  },
  "language_info": {
   "codemirror_mode": {
    "name": "ipython",
    "version": 3
   },
   "file_extension": ".py",
   "mimetype": "text/x-python",
   "name": "python",
   "nbconvert_exporter": "python",
   "pygments_lexer": "ipython3",
   "version": "3.13.5"
  }
 },
 "nbformat": 4,
 "nbformat_minor": 5
}
